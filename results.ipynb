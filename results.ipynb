{
  "cells": [
    {
      "cell_type": "code",
      "source": [
        "import pandas as pd\n",
        "pd.set_option('display.float_format', lambda e: f'{e:.2f}')\n",
        "stats = pd.read_json('experiments.json').sort_values('RMSE-mean')\n",
        "stats.T[stats.nunique() > 1].T"
      ],
      "outputs": [
        {
          "output_type": "execute_result",
          "execution_count": 3,
          "data": {
            "text/plain": [
              "   RMSE-STD  RMSE-mean category_encoding drop_outliers exec-time-sec  \\\n",
              "0 696388.01 2273463.89            onehot          True         34.53   \n",
              "4 724216.82 2339395.66            onehot          True          9.99   \n",
              "1 760802.35 2350349.72             count          True         33.31   \n",
              "3 770942.46 2448658.61            onehot          True          7.39   \n",
              "2 782948.36 2497804.55            onehot         False          8.38   \n",
              "\n",
              "  regressor_type  \n",
              "0            rfr  \n",
              "4            ard  \n",
              "1            rfr  \n",
              "3          huber  \n",
              "2          huber  "
            ],
            "text/html": [
              "<div>\n",
              "<style scoped>\n",
              "    .dataframe tbody tr th:only-of-type {\n",
              "        vertical-align: middle;\n",
              "    }\n",
              "\n",
              "    .dataframe tbody tr th {\n",
              "        vertical-align: top;\n",
              "    }\n",
              "\n",
              "    .dataframe thead th {\n",
              "        text-align: right;\n",
              "    }\n",
              "</style>\n",
              "<table border=\"1\" class=\"dataframe\">\n",
              "  <thead>\n",
              "    <tr style=\"text-align: right;\">\n",
              "      <th></th>\n",
              "      <th>RMSE-STD</th>\n",
              "      <th>RMSE-mean</th>\n",
              "      <th>category_encoding</th>\n",
              "      <th>drop_outliers</th>\n",
              "      <th>exec-time-sec</th>\n",
              "      <th>regressor_type</th>\n",
              "    </tr>\n",
              "  </thead>\n",
              "  <tbody>\n",
              "    <tr>\n",
              "      <th>0</th>\n",
              "      <td>696388.01</td>\n",
              "      <td>2273463.89</td>\n",
              "      <td>onehot</td>\n",
              "      <td>True</td>\n",
              "      <td>34.53</td>\n",
              "      <td>rfr</td>\n",
              "    </tr>\n",
              "    <tr>\n",
              "      <th>4</th>\n",
              "      <td>724216.82</td>\n",
              "      <td>2339395.66</td>\n",
              "      <td>onehot</td>\n",
              "      <td>True</td>\n",
              "      <td>9.99</td>\n",
              "      <td>ard</td>\n",
              "    </tr>\n",
              "    <tr>\n",
              "      <th>1</th>\n",
              "      <td>760802.35</td>\n",
              "      <td>2350349.72</td>\n",
              "      <td>count</td>\n",
              "      <td>True</td>\n",
              "      <td>33.31</td>\n",
              "      <td>rfr</td>\n",
              "    </tr>\n",
              "    <tr>\n",
              "      <th>3</th>\n",
              "      <td>770942.46</td>\n",
              "      <td>2448658.61</td>\n",
              "      <td>onehot</td>\n",
              "      <td>True</td>\n",
              "      <td>7.39</td>\n",
              "      <td>huber</td>\n",
              "    </tr>\n",
              "    <tr>\n",
              "      <th>2</th>\n",
              "      <td>782948.36</td>\n",
              "      <td>2497804.55</td>\n",
              "      <td>onehot</td>\n",
              "      <td>False</td>\n",
              "      <td>8.38</td>\n",
              "      <td>huber</td>\n",
              "    </tr>\n",
              "  </tbody>\n",
              "</table>\n",
              "</div>"
            ]
          },
          "metadata": {}
        }
      ],
      "execution_count": 3,
      "metadata": {}
    }
  ],
  "metadata": {
    "kernelspec": {
      "name": "python3",
      "language": "python",
      "display_name": "Python 3"
    },
    "language_info": {
      "name": "python",
      "version": "3.6.7",
      "mimetype": "text/x-python",
      "codemirror_mode": {
        "name": "ipython",
        "version": 3
      },
      "pygments_lexer": "ipython3",
      "nbconvert_exporter": "python",
      "file_extension": ".py"
    },
    "kernel_info": {
      "name": "python3"
    },
    "nteract": {
      "version": "0.14.5"
    }
  },
  "nbformat": 4,
  "nbformat_minor": 2
}