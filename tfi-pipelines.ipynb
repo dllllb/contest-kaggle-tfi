{
 "cells": [
  {
   "cell_type": "markdown",
   "metadata": {},
   "source": [
    "# Links\n",
    "- https://www.kaggle.com/c/restaurant-revenue-prediction\n",
    "\n",
    "# Solutions:\n",
    "- 13-th place: https://github.com/bensolucky/TFI\n",
    "- 14-th place: https://github.com/rohanrao91/Kaggle_TFI (stable on both public and private boards)\n",
    "- 32-th place: https://github.com/ITankoyeu/Kaggle_TFI"
   ]
  },
  {
   "cell_type": "code",
   "execution_count": 2,
   "metadata": {
    "collapsed": true
   },
   "outputs": [],
   "source": [
    "import math\n",
    "import pandas as pd\n",
    "import numpy as np\n",
    "from sklearn.base import BaseEstimator\n",
    "from sklearn.model_selection import cross_val_score, StratifiedKFold\n",
    "from sklearn.ensemble import RandomForestRegressor\n",
    "from sklearn.feature_extraction import DictVectorizer\n",
    "from sklearn.feature_selection import SelectKBest, f_regression\n",
    "from sklearn.gaussian_process import GaussianProcess\n",
    "from sklearn.linear_model import HuberRegressor, ARDRegression\n",
    "from sklearn.metrics import mean_squared_error\n",
    "from sklearn.pipeline import make_pipeline\n",
    "from sklearn.preprocessing import FunctionTransformer"
   ]
  },
  {
   "cell_type": "code",
   "execution_count": 3,
   "metadata": {
    "collapsed": true
   },
   "outputs": [],
   "source": [
    "def rmse(est, features, labels):\n",
    "    pred = est.predict(features)\n",
    "    return math.sqrt(mean_squared_error(labels, pred))"
   ]
  },
  {
   "cell_type": "code",
   "execution_count": 6,
   "metadata": {
    "collapsed": true
   },
   "outputs": [],
   "source": [
    "def ybin(y):\n",
    "    return (y.astype(np.float64) / np.max(y) * 10).astype(np.byte)"
   ]
  },
  {
   "cell_type": "code",
   "execution_count": 8,
   "metadata": {
    "collapsed": true
   },
   "outputs": [],
   "source": [
    "def cv_test(est):\n",
    "    df = pd.read_csv('train.csv.gz', index_col='Id')\n",
    "    features = df.drop(['revenue'], axis=1)\n",
    "    target = df.revenue\n",
    "\n",
    "    cv = StratifiedKFold(ybin(target), 50, shuffle=True)\n",
    "\n",
    "    scores = cross_val_score(estimator=est, X=features, y=target, scoring=rmse, cv=cv)\n",
    "    print('mean: {mean}, std: {std}'.format(mean=scores.mean(), std=scores.std()))"
   ]
  },
  {
   "cell_type": "code",
   "execution_count": 7,
   "metadata": {
    "collapsed": true
   },
   "outputs": [],
   "source": [
    "def submit(est):\n",
    "    df = pd.read_csv('train.csv.gz', index_col='Id')\n",
    "    features = df.drop(['revenue'], axis=1)\n",
    "    labels = df.revenue\n",
    "\n",
    "    model = est.fit(features, labels)\n",
    "\n",
    "    df_test = pd.read_csv('test.csv.gz', index_col='Id')\n",
    "\n",
    "    y_pred = model.predict(df_test)\n",
    "\n",
    "    res_df = pd.DataFrame({'Prediction': y_pred}, index=df_test.index)\n",
    "    res_df.to_csv('results.csv', index_label='Id')"
   ]
  },
  {
   "cell_type": "code",
   "execution_count": 4,
   "metadata": {},
   "outputs": [],
   "source": [
    "def outliers_filter(features, target):\n",
    "    threshold = target.mean()+target.std()*3\n",
    "    return features[target < threshold], target[target < threshold]\n",
    "\n",
    "class SamplesFilteringPipeline(BaseEstimator):\n",
    "    def __init__(self, pipeline, samples_filter):\n",
    "        self.pipeline = pipeline\n",
    "        self.samples_filter = samples_filter\n",
    "\n",
    "    def fit(self, X, y):\n",
    "        X_filtered, y_filtered = self.samples_filter(X, y)\n",
    "        return self.pipeline.fit(X_filtered, y_filtered)\n",
    "\n",
    "    def predict(self, X):\n",
    "        return self.pipeline.predict(X)\n",
    "\n",
    "    def predict_proba(self, X):\n",
    "        return self.pipeline.predict_proba(X)\n",
    "    \n",
    "def no_outliers_pipeline(est):\n",
    "    return SamplesFilteringPipeline(est, outliers_filter)"
   ]
  },
  {
   "cell_type": "code",
   "execution_count": 5,
   "metadata": {
    "collapsed": true
   },
   "outputs": [],
   "source": [
    "def days_to_delta(df):\n",
    "    delta = np.timedelta64(1, 'D')\n",
    "    days_open = (pd.to_datetime('2015-02-01') - pd.to_datetime(df['Open Date'])) / delta\n",
    "    dfc = df.drop('Open Date', axis=1).copy()\n",
    "    dfc['days_open'] = days_open\n",
    "    return dfc\n",
    "\n",
    "df2dict = FunctionTransformer(\n",
    "    lambda x: x.to_dict(orient='records'), validate=False)\n",
    "\n",
    "transf = make_pipeline(\n",
    "    FunctionTransformer(days_to_delta, validate=False),\n",
    "    df2dict,\n",
    "    DictVectorizer(sparse=False),\n",
    ")"
   ]
  },
  {
   "cell_type": "code",
   "execution_count": 9,
   "metadata": {
    "collapsed": true
   },
   "outputs": [],
   "source": [
    "# mean: 1824379.8869, std: 1459901.28338\n",
    "# cv execution time: 42.1881010532 sec\n",
    "est1 = no_outliers_pipeline(make_pipeline(\n",
    "    transf,\n",
    "    SelectKBest(f_regression, 20),\n",
    "    RandomForestRegressor(n_jobs=4, n_estimators=100, max_features=0.2, max_depth=2, random_state=1)\n",
    "))"
   ]
  },
  {
   "cell_type": "code",
   "execution_count": 10,
   "metadata": {},
   "outputs": [
    {
     "name": "stderr",
     "output_type": "stream",
     "text": [
      "/Users/dmitri/anaconda/lib/python2.7/site-packages/sklearn/utils/deprecation.py:52: DeprecationWarning: Class GaussianProcess is deprecated; GaussianProcess was deprecated in version 0.18 and will be removed in 0.20. Use the GaussianProcessRegressor instead.\n",
      "  warnings.warn(msg, category=DeprecationWarning)\n"
     ]
    }
   ],
   "source": [
    "# mean: 1742530.13007, std: 1364629.88699\n",
    "# cv execution time: 7.0613951683 sec\n",
    "est2 = no_outliers_pipeline(make_pipeline(\n",
    "    transf,\n",
    "    GaussianProcess(theta0=.5),\n",
    "))"
   ]
  },
  {
   "cell_type": "code",
   "execution_count": 11,
   "metadata": {
    "collapsed": true
   },
   "outputs": [],
   "source": [
    "# mean: 1766325.28518, std: 1481625.49979\n",
    "# cv execution time: 5.615224123 sec\n",
    "est3 = make_pipeline(\n",
    "    transf,\n",
    "    HuberRegressor(epsilon=1.2),\n",
    ")"
   ]
  },
  {
   "cell_type": "code",
   "execution_count": 12,
   "metadata": {
    "collapsed": true
   },
   "outputs": [],
   "source": [
    "# mean: 1892192.83136, std: 1573990.82032\n",
    "# cv execution time: 5.36941003799 sec\n",
    "est4 = no_outliers_pipeline(make_pipeline(\n",
    "    transf,\n",
    "    HuberRegressor(epsilon=1.2),\n",
    "))"
   ]
  },
  {
   "cell_type": "code",
   "execution_count": 13,
   "metadata": {
    "collapsed": true
   },
   "outputs": [],
   "source": [
    "# mean: 1763053.40639, std: 1446500.61418\n",
    "# cv execution time: 6.88036894798 sec\n",
    "est5 = no_outliers_pipeline(make_pipeline(\n",
    "    transf,\n",
    "    ARDRegression(),\n",
    "))"
   ]
  },
  {
   "cell_type": "code",
   "execution_count": null,
   "metadata": {
    "collapsed": true
   },
   "outputs": [],
   "source": []
  }
 ],
 "metadata": {
  "kernelspec": {
   "display_name": "Python 2",
   "language": "python",
   "name": "python2"
  },
  "language_info": {
   "codemirror_mode": {
    "name": "ipython",
    "version": 2
   },
   "file_extension": ".py",
   "mimetype": "text/x-python",
   "name": "python",
   "nbconvert_exporter": "python",
   "pygments_lexer": "ipython2",
   "version": "2.7.11"
  }
 },
 "nbformat": 4,
 "nbformat_minor": 1
}
