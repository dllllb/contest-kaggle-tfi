{
 "cells": [
  {
   "cell_type": "markdown",
   "metadata": {},
   "source": [
    "# Links\n",
    "- https://www.kaggle.com/c/restaurant-revenue-prediction\n",
    "\n",
    "# Solutions:\n",
    "- 13-th place: https://github.com/bensolucky/TFI\n",
    "- 14-th place: https://github.com/rohanrao91/Kaggle_TFI (stable on both public and private boards)\n",
    "- 32-th place: https://github.com/ITankoyeu/Kaggle_TFI"
   ]
  },
  {
   "cell_type": "code",
   "execution_count": 8,
   "metadata": {},
   "outputs": [
    {
     "name": "stdout",
     "output_type": "stream",
     "text": [
      "The autoreload extension is already loaded. To reload it, use:\n",
      "  %reload_ext autoreload\n"
     ]
    }
   ],
   "source": [
    "%load_ext autoreload\n",
    "%autoreload 2\n",
    "\n",
    "import pipeline"
   ]
  },
  {
   "cell_type": "code",
   "execution_count": 11,
   "metadata": {
    "collapsed": true
   },
   "outputs": [
    {
     "name": "stdout",
     "output_type": "stream",
     "text": [
      "{'RMSE-mean': 2330015.0602685334, 'RMSE-STD': 576278.8487595215}\n"
     ]
    }
   ],
   "source": [
    "pipeline.test_validate()"
   ]
  },
  {
   "cell_type": "code",
   "execution_count": 4,
   "metadata": {},
   "outputs": [
    {
     "data": {
      "text/html": [
       "<div>\n",
       "<style scoped>\n",
       "    .dataframe tbody tr th:only-of-type {\n",
       "        vertical-align: middle;\n",
       "    }\n",
       "\n",
       "    .dataframe tbody tr th {\n",
       "        vertical-align: top;\n",
       "    }\n",
       "\n",
       "    .dataframe thead th {\n",
       "        text-align: right;\n",
       "    }\n",
       "</style>\n",
       "<table border=\"1\" class=\"dataframe\">\n",
       "  <thead>\n",
       "    <tr style=\"text-align: right;\">\n",
       "      <th></th>\n",
       "      <th>0</th>\n",
       "      <th>5</th>\n",
       "      <th>2</th>\n",
       "      <th>1</th>\n",
       "      <th>4</th>\n",
       "      <th>3</th>\n",
       "    </tr>\n",
       "  </thead>\n",
       "  <tbody>\n",
       "    <tr>\n",
       "      <th>RMSE-STD</th>\n",
       "      <td>696388.01</td>\n",
       "      <td>724216.82</td>\n",
       "      <td>760802.35</td>\n",
       "      <td>773110.81</td>\n",
       "      <td>770942.46</td>\n",
       "      <td>782948.36</td>\n",
       "    </tr>\n",
       "    <tr>\n",
       "      <th>RMSE-mean</th>\n",
       "      <td>2273463.89</td>\n",
       "      <td>2339395.66</td>\n",
       "      <td>2350349.72</td>\n",
       "      <td>2378698.69</td>\n",
       "      <td>2448658.61</td>\n",
       "      <td>2497804.55</td>\n",
       "    </tr>\n",
       "    <tr>\n",
       "      <th>category_encoding</th>\n",
       "      <td>onehot</td>\n",
       "      <td>onehot</td>\n",
       "      <td>count</td>\n",
       "      <td>empyrical_bayes</td>\n",
       "      <td>onehot</td>\n",
       "      <td>onehot</td>\n",
       "    </tr>\n",
       "    <tr>\n",
       "      <th>drop_outliers</th>\n",
       "      <td>True</td>\n",
       "      <td>True</td>\n",
       "      <td>True</td>\n",
       "      <td>True</td>\n",
       "      <td>True</td>\n",
       "      <td>False</td>\n",
       "    </tr>\n",
       "    <tr>\n",
       "      <th>exec-time-sec</th>\n",
       "      <td>34.53</td>\n",
       "      <td>9.99</td>\n",
       "      <td>33.31</td>\n",
       "      <td>34.17</td>\n",
       "      <td>7.39</td>\n",
       "      <td>8.38</td>\n",
       "    </tr>\n",
       "    <tr>\n",
       "      <th>regressor_type</th>\n",
       "      <td>rfr</td>\n",
       "      <td>ard</td>\n",
       "      <td>rfr</td>\n",
       "      <td>rfr</td>\n",
       "      <td>huber</td>\n",
       "      <td>huber</td>\n",
       "    </tr>\n",
       "  </tbody>\n",
       "</table>\n",
       "</div>"
      ],
      "text/plain": [
       "                           0          5          2                1  \\\n",
       "RMSE-STD           696388.01  724216.82  760802.35        773110.81   \n",
       "RMSE-mean         2273463.89 2339395.66 2350349.72       2378698.69   \n",
       "category_encoding     onehot     onehot      count  empyrical_bayes   \n",
       "drop_outliers           True       True       True             True   \n",
       "exec-time-sec          34.53       9.99      33.31            34.17   \n",
       "regressor_type           rfr        ard        rfr              rfr   \n",
       "\n",
       "                           4          3  \n",
       "RMSE-STD           770942.46  782948.36  \n",
       "RMSE-mean         2448658.61 2497804.55  \n",
       "category_encoding     onehot     onehot  \n",
       "drop_outliers           True      False  \n",
       "exec-time-sec           7.39       8.38  \n",
       "regressor_type         huber      huber  "
      ]
     },
     "execution_count": 4,
     "metadata": {},
     "output_type": "execute_result"
    }
   ],
   "source": [
    "import pandas as pd\n",
    "pd.set_option('display.float_format', lambda e: f'{e:.2f}')\n",
    "stats = pd.read_json('experiments.json').sort_values('RMSE-mean')\n",
    "stats.T[stats.nunique() > 1]"
   ]
  },
  {
   "cell_type": "code",
   "execution_count": null,
   "metadata": {},
   "outputs": [],
   "source": []
  }
 ],
 "metadata": {
  "kernelspec": {
   "display_name": "Python 3",
   "language": "python",
   "name": "python3"
  },
  "language_info": {
   "codemirror_mode": {
    "name": "ipython",
    "version": 3
   },
   "file_extension": ".py",
   "mimetype": "text/x-python",
   "name": "python",
   "nbconvert_exporter": "python",
   "pygments_lexer": "ipython3",
   "version": "3.6.4"
  }
 },
 "nbformat": 4,
 "nbformat_minor": 2
}
